{
 "cells": [
  {
   "cell_type": "markdown",
   "id": "c7cbea39-bb8e-4433-8031-18e8102057e7",
   "metadata": {},
   "source": [
    "## 1 - Find a string\n",
    "Bu sorgulamada, kullanıcı bir dize ve bir alt dize girer. Verilen dizede alt dizenin kaç kez oluştuğunu yazdırmanız gerekir. Dize geçişi sağdan sola değil soldan sağa gerçekleşecektir.\n",
    "\n",
    "NOT: Dize harfleri büyük/küçük harf duyarlıdır."
   ]
  },
  {
   "cell_type": "code",
   "execution_count": 7,
   "id": "55010a1e-34f6-4573-91b5-707a904f7600",
   "metadata": {},
   "outputs": [
    {
     "data": {
      "text/plain": [
       "3"
      ]
     },
     "execution_count": 7,
     "metadata": {},
     "output_type": "execute_result"
    }
   ],
   "source": [
    "def count_substring(string, sub_string):\n",
    "    say = 0\n",
    "    fark = len(string) - len(sub_string) + 1\n",
    "    for i in range(fark):\n",
    "        if sub_string == string[i : i + len(sub_string)]:\n",
    "            say += 1     \n",
    "    return say\n",
    "\n",
    "dize = \"globaglobbalgloobal\"\n",
    "alt_dize = \"glo\"\n",
    "count_substring(dize, alt_dize)"
   ]
  },
  {
   "cell_type": "markdown",
   "id": "bfcf1740-7fb7-4a1c-8e79-f4cede0e2f36",
   "metadata": {},
   "source": [
    "## 2 - Mutations\n",
    "Verilen bir diziyi okuyun, verilen dizindeki karakteri değiştirin ve sonra değiştirilen diziyi yazdırın."
   ]
  },
  {
   "cell_type": "code",
   "execution_count": 8,
   "id": "59286a50-230d-4810-8b37-356afd56ff45",
   "metadata": {},
   "outputs": [
    {
     "data": {
      "text/plain": [
       "'Global YI Hub'"
      ]
     },
     "execution_count": 8,
     "metadata": {},
     "output_type": "execute_result"
    }
   ],
   "source": [
    "def mutate_string(string, position, character):\n",
    "    sonuc = string[:position] + character + string[position + 1 : ]\n",
    "    return sonuc\n",
    "\n",
    "ifade = \"Global AI Hub\"\n",
    "mutate_string(ifade, 7, 'Y')"
   ]
  },
  {
   "cell_type": "markdown",
   "id": "b4d3c24f-1530-483b-826f-21e40ff98d83",
   "metadata": {},
   "source": [
    "## 3 - Python If-Else"
   ]
  },
  {
   "cell_type": "code",
   "execution_count": 10,
   "id": "88208885-534d-4722-a551-8b3f4e1e0723",
   "metadata": {},
   "outputs": [
    {
     "name": "stdin",
     "output_type": "stream",
     "text": [
      " 17\n"
     ]
    },
    {
     "name": "stdout",
     "output_type": "stream",
     "text": [
      "Weird\n"
     ]
    }
   ],
   "source": [
    "n = int(input().strip())\n",
    "if n % 2 == 1:\n",
    "    print(\"Weird\")\n",
    "elif 2 <= n <= 5 :\n",
    "    print(\"Not Weird\")\n",
    "elif 6 <= n <= 20:\n",
    "    print(\"Weird\")\n",
    "elif n > 20:\n",
    "    print(\"Not Weird\")\n"
   ]
  },
  {
   "cell_type": "markdown",
   "id": "4abdc23d-726a-4922-8328-9fb57597e7d4",
   "metadata": {},
   "source": [
    "## 4 - Python: Division"
   ]
  },
  {
   "cell_type": "code",
   "execution_count": 12,
   "id": "d11219c7-b08b-4b1f-8709-d2889a1aab52",
   "metadata": {},
   "outputs": [
    {
     "name": "stdin",
     "output_type": "stream",
     "text": [
      " 17\n",
      " 3\n"
     ]
    },
    {
     "name": "stdout",
     "output_type": "stream",
     "text": [
      "5\n",
      "5.666666666666667\n"
     ]
    }
   ],
   "source": [
    "a = int(input())\n",
    "b = int(input())\n",
    "print(a // b)\n",
    "print(a / b)\n"
   ]
  },
  {
   "cell_type": "markdown",
   "id": "9c384833-f066-4a24-b400-e8bdadc773e2",
   "metadata": {},
   "source": [
    "## 5 - Find the Runner-Up Score!\n"
   ]
  },
  {
   "cell_type": "markdown",
   "id": "d920a0ec-01cb-4106-86e9-fab1df73006d",
   "metadata": {},
   "source": [
    "Üniversite Spor Gününüz için katılımcıların puan tablosuna bakıldığında, ikincilik puanını bulmanız gerek.\n",
    "- n elemanlı bir listedeki sayılardan 2. en büyük sayıyı bulmamız isteniyor.\n",
    "- listede sayılar aynı olabilir."
   ]
  },
  {
   "cell_type": "code",
   "execution_count": 14,
   "id": "64969164-d145-41a6-b1a3-53eed4b1c9e3",
   "metadata": {},
   "outputs": [
    {
     "name": "stdin",
     "output_type": "stream",
     "text": [
      "kaç sayı: 4\n",
      "Sayılar (aralarda boşluk) 4 7 8 2 \n"
     ]
    },
    {
     "name": "stdout",
     "output_type": "stream",
     "text": [
      "7\n"
     ]
    }
   ],
   "source": [
    "n = int(input(\"kaç sayı:\")) # Verilecek sayı adedi\n",
    "liste = map(int, input(\"Sayılar (aralarda boşluk)\").split()) # n adet tamsayı\n",
    "liste = sorted(liste)\n",
    "for i in range(1, n + 1):\n",
    "    if liste[n - i] != liste[-1]:\n",
    "        print(liste[n - i])\n",
    "        break\n",
    "    else:\n",
    "        continue"
   ]
  },
  {
   "cell_type": "code",
   "execution_count": null,
   "id": "a2208a72-c2cb-4d27-932e-e9b45f1f286c",
   "metadata": {},
   "outputs": [],
   "source": []
  }
 ],
 "metadata": {
  "kernelspec": {
   "display_name": "Python 3 (ipykernel)",
   "language": "python",
   "name": "python3"
  },
  "language_info": {
   "codemirror_mode": {
    "name": "ipython",
    "version": 3
   },
   "file_extension": ".py",
   "mimetype": "text/x-python",
   "name": "python",
   "nbconvert_exporter": "python",
   "pygments_lexer": "ipython3",
   "version": "3.10.1"
  }
 },
 "nbformat": 4,
 "nbformat_minor": 5
}
