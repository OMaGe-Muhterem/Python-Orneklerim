{
 "cells": [
  {
   "cell_type": "markdown",
   "id": "48519a25-ff88-4c5a-99aa-758c5a29415c",
   "metadata": {},
   "source": [
    "### Projeleri Nasıl Teslim Etmelisiniz?\n",
    "- İki proje için, iki ayrı kod dosyası ve iki ayrı proje dökümanı hazırlamanız gerekmektedir.\n",
    "- Hazırladığınız bu dosyaları bir drive klasörüne eklemenizi ve bu klasörün linkini aşağıda linkte yer alan forma eklemeniz gerekmektedir. \n",
    "https://forms.gle/t8WXBBfmWJSA2rzG6"
   ]
  },
  {
   "cell_type": "markdown",
   "id": "aea7706a-6fff-4cfc-b1c7-766f090f09b0",
   "metadata": {},
   "source": [
    "# Proje 1\n",
    "\n",
    "Bu projede bir öğrenci not sistemi oluşturacaksınız. Sizden istenilenler:\n",
    "\n",
    "- Kendinize bir ders belirleyiniz. (Matematik,Fizik, Lineer Cebir vb.)\n",
    "- Not aralığınızı oluşturunuz (100-80 ⇒ A, 79-70 ⇒ B vb.)\n",
    "- Öğrenci Bilgilerini (Ad, Soyad, Okul No, sınav puanı) girebileceğiniz ve bu bilgilerin tutulabileceği bir sistem oluşturunuz.\n",
    "- Girilen bilgilerden yola çıkarak öğrencinin dersi geçip geçmediğini göstermesi gerekmektedir.\n",
    "- Öğrenci dersi geçti ise öğrencinin bilgilerinin tutulduğu alana “Geçti” yazısı, öğrenci dersi geçemedi ise “kaldı” yazısını göstermesi gerekmektedir.\n",
    "- Notları girilen öğrencilerden dersi geçenleri ve geçmeyenleri gösteren bir Dataframe oluşturunuz. \n",
    "- Oluşturulan Dataframe’i Excel tablosuna dönüştürünüz.\n"
   ]
  },
  {
   "cell_type": "code",
   "execution_count": 6,
   "id": "886efd88-911f-4e11-bbc0-f2562ca783bd",
   "metadata": {},
   "outputs": [
    {
     "name": "stdout",
     "output_type": "stream",
     "text": [
      "Not Ortalamanız: 80.0 olup harf değeri: B \n",
      "GEÇTİ\n"
     ]
    }
   ],
   "source": [
    "ders_adi = \"Türkçe\"\n",
    "notlandir = {\"86 - 100\": \"A\", \"71 - 85\": \"B\", \"56 - 70\": \"C\", \"46 - 55\": \"D\", \"36 - 45\": \"E\", \"0 - 35\": \"F\"}\n",
    "ogrenci = \"Pelin Yavuz\"\n",
    "okul_no = 1273\n",
    "notlar = [70, 80, 90] # Sadece ortalama olacak\n",
    "ortalama = (notlar[0] + notlar[1] + notlar[2]) / 3\n",
    "if 86<= ortalama <= 100:\n",
    "    not_harf = \"A\"\n",
    "elif 71 <= ortalama < 86:\n",
    "    not_harf = \"B\"\n",
    "elif 56 <= ortalama < 71:\n",
    "    not_harf = \"C\"\n",
    "elif 46 <= ortalama < 56:\n",
    "    not_harf = \"D\"\n",
    "elif 36 <= ortalama < 46:\n",
    "    not_harf = \"E\"\n",
    "elif 0 <= ortalama < 36:\n",
    "    not_harf = \"F\"\n",
    "else:\n",
    "    print(\"0 - 100 arasında bir sayı girilmeli\")\n",
    "# \n",
    "if ortalama >= 45:\n",
    "    print(f\"Not Ortalamanız: {ortalama} olup harf değeri: {not_harf} \\nGEÇTİ\")\n",
    "else:\n",
    "    print(f\"Not Ortalamanız: {ortalama}-{not_harf} \\nKALDI\")"
   ]
  },
  {
   "cell_type": "code",
   "execution_count": 11,
   "id": "2309ea9f-ddf5-4e1e-89f2-93a7ad920078",
   "metadata": {},
   "outputs": [],
   "source": [
    "import pandas as pd\n",
    "kayitlar = [[\"Pelin Yavuz\", \"1273\", 80, \"Geçti\"], \n",
    "            [\"Ferit Bal\", \"1125\", 40, \"Kaldı\"], \n",
    "            [\"Arif Enez\", \"1240\", 58, \"Geçti\"], \n",
    "            [\"Sibel Tuna\", \"1164\", 76, \"Geçti\"], ]\n",
    "data_kayit = pd.DataFrame(kayitlar, columns = [\"Öğrenci\", \"Okul No\", \"Ortalama\", \"Sonuç\"])"
   ]
  },
  {
   "cell_type": "code",
   "execution_count": 9,
   "id": "f99d3e7b-9b0a-455a-b8a5-b1472a3c36ce",
   "metadata": {},
   "outputs": [
    {
     "data": {
      "text/html": [
       "<div>\n",
       "<style scoped>\n",
       "    .dataframe tbody tr th:only-of-type {\n",
       "        vertical-align: middle;\n",
       "    }\n",
       "\n",
       "    .dataframe tbody tr th {\n",
       "        vertical-align: top;\n",
       "    }\n",
       "\n",
       "    .dataframe thead th {\n",
       "        text-align: right;\n",
       "    }\n",
       "</style>\n",
       "<table border=\"1\" class=\"dataframe\">\n",
       "  <thead>\n",
       "    <tr style=\"text-align: right;\">\n",
       "      <th></th>\n",
       "      <th>Öğrenci</th>\n",
       "      <th>Okul No</th>\n",
       "      <th>Ortalama</th>\n",
       "      <th>Sonuç</th>\n",
       "    </tr>\n",
       "  </thead>\n",
       "  <tbody>\n",
       "    <tr>\n",
       "      <th>0</th>\n",
       "      <td>Pelin Yavuz</td>\n",
       "      <td>1273</td>\n",
       "      <td>80</td>\n",
       "      <td>Geçti</td>\n",
       "    </tr>\n",
       "    <tr>\n",
       "      <th>1</th>\n",
       "      <td>Ferit Bal</td>\n",
       "      <td>1125</td>\n",
       "      <td>40</td>\n",
       "      <td>Kaldı</td>\n",
       "    </tr>\n",
       "    <tr>\n",
       "      <th>2</th>\n",
       "      <td>Arif Enez</td>\n",
       "      <td>1240</td>\n",
       "      <td>58</td>\n",
       "      <td>Geçti</td>\n",
       "    </tr>\n",
       "    <tr>\n",
       "      <th>3</th>\n",
       "      <td>Sibel Tuna</td>\n",
       "      <td>1164</td>\n",
       "      <td>76</td>\n",
       "      <td>Geçti</td>\n",
       "    </tr>\n",
       "  </tbody>\n",
       "</table>\n",
       "</div>"
      ],
      "text/plain": [
       "       Öğrenci Okul No  Ortalama  Sonuç\n",
       "0  Pelin Yavuz    1273        80  Geçti\n",
       "1    Ferit Bal    1125        40  Kaldı\n",
       "2    Arif Enez    1240        58  Geçti\n",
       "3   Sibel Tuna    1164        76  Geçti"
      ]
     },
     "execution_count": 9,
     "metadata": {},
     "output_type": "execute_result"
    }
   ],
   "source": [
    "data_kayit"
   ]
  },
  {
   "cell_type": "markdown",
   "id": "191f4358-3fb1-4ff4-b416-7ae1c41d8582",
   "metadata": {},
   "source": [
    "### Oluşturduğumuz DataFrame'i Excel tablosuna dönüştürme"
   ]
  },
  {
   "cell_type": "code",
   "execution_count": 10,
   "id": "c54bafc6-8d92-41c3-ac3b-c638bb415589",
   "metadata": {},
   "outputs": [],
   "source": [
    "import pandas as pd\n",
    "\"\"\"df1 = pd.DataFrame([['a', 'b', '1', 1, 1.01], ['c', 'd', '2', 2, 2.02],  ['e', 'f', '30', 30, 30.03]], # Bir liste içerisinde her satır için ayrı bir liste olacak\n",
    "                   index=['row 1', 'row 2', '3. satır'],\n",
    "                   columns=['col 1', 'col 2', 'sutun3', 4, 5.0])\"\"\"\n",
    "data_kayit.to_excel(\"output.xlsx\")"
   ]
  },
  {
   "cell_type": "markdown",
   "id": "1beb10d2-bf01-4256-b735-8fdb89f55d2c",
   "metadata": {},
   "source": [
    "# Proje 2\n",
    "\n",
    "(Dataset Linki: https://www.kaggle.com/datasets/luiscorter/netflix-original-films-imdb-scores )\n",
    "\n",
    "- Veri setine göre uzun soluklu filmler hangi dilde oluşturulmuştur? Görselleştirme yapınız.\n",
    "- 2019 Ocak ile 2020 Haziran tarihleri arasında 'Documentary' türünde çekilmiş filmlerin IMDB değerlerini bulup görselleştiriniz.\n",
    "- İngilizce çekilen filmler içerisinde hangi tür en yüksek IMDB puanına sahiptir?\n",
    "- 'Hindi' Dilinde çekilmiş olan filmlerin ortalama 'runtime' suresi nedir?\n",
    "- 'Genre' Sütunu kaç kategoriye sahiptir ve bu kategoriler nelerdir? Görselleştirerek ifade ediniz.\n",
    "- Veri setinde bulunan filmlerde en çok kullanılan 3 dili bulunuz.\n",
    "- IMDB puanı en yüksek olan ilk 10 film hangileridir?\n",
    "- IMDB puanı ile 'Runtime' arasında nasıl bir korelasyon vardır? İnceleyip görselleştiriniz.\n",
    "- IMDB Puanı en yüksek olan ilk 10 'Genre' hangileridir? Görselleştiriniz.\n",
    "- 'Runtime' değeri en yüksek olan ilk 10 film hangileridir? Görselleştiriniz.\n",
    "- Hangi yılda en fazla film yayımlanmıştır? Görselleştiriniz.\n",
    "- Hangi dilde yayımlanan filmler en düşük ortalama IMBD puanına sahiptir? Görselleştiriniz.\n",
    "- Hangi yılın toplam \"runtime\" süresi en fazladır?\n",
    "- Her bir dilin en fazla kullanıldığı \"Genre\" nedir?\n",
    "- Veri setinde outlier veri var mıdır? Açıklayınız.\n",
    "\n"
   ]
  },
  {
   "cell_type": "code",
   "execution_count": null,
   "id": "52a7a188-e2e2-4d40-be2c-98a5b54e8d0b",
   "metadata": {},
   "outputs": [],
   "source": []
  }
 ],
 "metadata": {
  "kernelspec": {
   "display_name": "Python 3 (ipykernel)",
   "language": "python",
   "name": "python3"
  },
  "language_info": {
   "codemirror_mode": {
    "name": "ipython",
    "version": 3
   },
   "file_extension": ".py",
   "mimetype": "text/x-python",
   "name": "python",
   "nbconvert_exporter": "python",
   "pygments_lexer": "ipython3",
   "version": "3.10.1"
  }
 },
 "nbformat": 4,
 "nbformat_minor": 5
}
